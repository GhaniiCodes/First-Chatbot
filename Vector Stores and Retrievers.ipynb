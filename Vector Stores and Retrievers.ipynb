{
 "cells": [
  {
   "metadata": {},
   "cell_type": "markdown",
   "source": "# VECTORS STORE",
   "id": "7f5989b36a7fdaf8"
  },
  {
   "cell_type": "code",
   "id": "initial_id",
   "metadata": {
    "collapsed": true,
    "ExecuteTime": {
     "end_time": "2025-07-30T11:55:42.349418Z",
     "start_time": "2025-07-30T11:55:42.342009Z"
    }
   },
   "source": [
    "from langchain_core.documents import Document\n",
    "import os\n",
    "from dotenv import load_dotenv\n",
    "from langchain_groq import ChatGroq\n",
    "from langchain_huggingface import HuggingFaceEmbeddings\n",
    "from langchain_chroma import Chroma"
   ],
   "outputs": [],
   "execution_count": 20
  },
  {
   "metadata": {
    "ExecuteTime": {
     "end_time": "2025-07-30T11:37:02.019885Z",
     "start_time": "2025-07-30T11:37:02.007614Z"
    }
   },
   "cell_type": "code",
   "source": "load_dotenv(dotenv_path='D:\\PYTHON\\GENERATIVE AI\\.ENV FILES\\Simple ChatBot\\.env')",
   "id": "e3f489ce1fc32570",
   "outputs": [
    {
     "data": {
      "text/plain": [
       "True"
      ]
     },
     "execution_count": 8,
     "metadata": {},
     "output_type": "execute_result"
    }
   ],
   "execution_count": 8
  },
  {
   "metadata": {
    "ExecuteTime": {
     "end_time": "2025-07-30T11:38:21.755569Z",
     "start_time": "2025-07-30T11:38:21.750141Z"
    }
   },
   "cell_type": "code",
   "source": [
    "Groq_api_key = os.getenv(\"GROQ_API_KEY\")\n",
    "os.environ[\"HF_Token\"] = os.getenv(\"HF_TOKEN\")"
   ],
   "id": "562d16514fee2427",
   "outputs": [],
   "execution_count": 12
  },
  {
   "metadata": {
    "ExecuteTime": {
     "end_time": "2025-07-30T11:41:31.321408Z",
     "start_time": "2025-07-30T11:41:31.284368Z"
    }
   },
   "cell_type": "code",
   "source": "Model = ChatGroq(model=\"llama-3.1-8b-instant\", api_key=Groq_api_key)",
   "id": "53b31cc563122962",
   "outputs": [],
   "execution_count": 16
  },
  {
   "metadata": {
    "ExecuteTime": {
     "end_time": "2025-07-30T11:55:18.963263Z",
     "start_time": "2025-07-30T11:53:34.559854Z"
    }
   },
   "cell_type": "code",
   "source": "Embedding_Model = HuggingFaceEmbeddings(model=\"all-MiniLM-L6-v2\")",
   "id": "ba1739bff5e9f89a",
   "outputs": [
    {
     "name": "stderr",
     "output_type": "stream",
     "text": [
      "D:\\PYTHON\\GENERATIVE AI\\GENAI\\Lib\\site-packages\\tqdm\\auto.py:21: TqdmWarning: IProgress not found. Please update jupyter and ipywidgets. See https://ipywidgets.readthedocs.io/en/stable/user_install.html\n",
      "  from .autonotebook import tqdm as notebook_tqdm\n"
     ]
    },
    {
     "name": "stdout",
     "output_type": "stream",
     "text": [
      "WARNING:tensorflow:From D:\\PYTHON\\GENERATIVE AI\\GENAI\\Lib\\site-packages\\tf_keras\\src\\losses.py:2976: The name tf.losses.sparse_softmax_cross_entropy is deprecated. Please use tf.compat.v1.losses.sparse_softmax_cross_entropy instead.\n",
      "\n"
     ]
    }
   ],
   "execution_count": 18
  },
  {
   "metadata": {
    "ExecuteTime": {
     "end_time": "2025-07-30T11:26:30.840514Z",
     "start_time": "2025-07-30T11:26:30.827699Z"
    }
   },
   "cell_type": "code",
   "source": [
    "Documents = [\n",
    "    Document(\n",
    "        page_content=\"Dogs are great human companions, Known for their loyalty and friendliness\",\n",
    "        metadata = {\"source\": \"mammals-pets-doc\"},\n",
    "    ),\n",
    "    Document(\n",
    "        page_content=\"Cats are independent pets that often enjoy their own space\",\n",
    "        metadata = {\"source\": \"mammals-pets-doc\"},\n",
    "    ),\n",
    "    Document(\n",
    "        page_content=\"Gold fish are popular pet for beginner, as it require less care\",\n",
    "        metadata = {\"source\": \"mammals-pets-doc\"},\n",
    "    ),\n",
    "    Document(\n",
    "        page_content=\"Parrots are intelligent bird cappable of mimicking human speech\",\n",
    "        metadata = {\"source\": \"mammals-pets-doc\"},\n",
    "    ),\n",
    "    Document(\n",
    "        page_content=\"Rabbits are pet and social animal that require large space to hop around\",\n",
    "        metadata = {\"source\": \"mammals-pets-doc\"},\n",
    "    ),\n",
    "]"
   ],
   "id": "713190ceb5273e44",
   "outputs": [],
   "execution_count": 3
  },
  {
   "metadata": {
    "ExecuteTime": {
     "end_time": "2025-07-30T11:26:33.894899Z",
     "start_time": "2025-07-30T11:26:33.881918Z"
    }
   },
   "cell_type": "code",
   "source": "Documents",
   "id": "ed0f3d629654d805",
   "outputs": [
    {
     "data": {
      "text/plain": [
       "[Document(metadata={'source': 'mammals-pets-doc'}, page_content='Dogs are great human companions, Known for their loyalty and friendliness'),\n",
       " Document(metadata={'source': 'mammals-pets-doc'}, page_content='Cats are independent pets that often enjoy their own space'),\n",
       " Document(metadata={'source': 'mammals-pets-doc'}, page_content='Gold fish are popular pet for beginner, as it require less care'),\n",
       " Document(metadata={'source': 'mammals-pets-doc'}, page_content='Parrots are intelligent bird cappable of mimicking human speech'),\n",
       " Document(metadata={'source': 'mammals-pets-doc'}, page_content='Rabbits are pet and social animal that require large space to hop around')]"
      ]
     },
     "execution_count": 4,
     "metadata": {},
     "output_type": "execute_result"
    }
   ],
   "execution_count": 4
  },
  {
   "metadata": {
    "ExecuteTime": {
     "end_time": "2025-07-30T11:26:39.575619Z",
     "start_time": "2025-07-30T11:26:39.568461Z"
    }
   },
   "cell_type": "code",
   "source": "type(Documents)",
   "id": "9bac4c88d7935cd4",
   "outputs": [
    {
     "data": {
      "text/plain": [
       "list"
      ]
     },
     "execution_count": 5,
     "metadata": {},
     "output_type": "execute_result"
    }
   ],
   "execution_count": 5
  },
  {
   "metadata": {
    "ExecuteTime": {
     "end_time": "2025-07-30T11:59:19.695927Z",
     "start_time": "2025-07-30T11:59:17.786424Z"
    }
   },
   "cell_type": "code",
   "source": [
    "Vector_store = Chroma.from_documents(Documents, embedding=Embedding_Model)\n",
    "Vector_store"
   ],
   "id": "2e3729beda4afc22",
   "outputs": [
    {
     "data": {
      "text/plain": [
       "<langchain_chroma.vectorstores.Chroma at 0x20a90cb56d0>"
      ]
     },
     "execution_count": 21,
     "metadata": {},
     "output_type": "execute_result"
    }
   ],
   "execution_count": 21
  },
  {
   "metadata": {
    "ExecuteTime": {
     "end_time": "2025-07-30T12:02:26.701032Z",
     "start_time": "2025-07-30T12:02:26.674358Z"
    }
   },
   "cell_type": "code",
   "source": "Vector_store.similarity_search(\"Loyalty\")",
   "id": "ac5b7a7e12ebacd0",
   "outputs": [
    {
     "data": {
      "text/plain": [
       "[Document(id='2ed6c736-1321-44b7-a9f3-7b5c530cc543', metadata={'source': 'mammals-pets-doc'}, page_content='Dogs are great human companions, Known for their loyalty and friendliness'),\n",
       " Document(id='9fc147a1-b381-4e69-bfda-98a364b2731d', metadata={'source': 'mammals-pets-doc'}, page_content='Cats are independent pets that often enjoy their own space'),\n",
       " Document(id='62bb0391-7af2-4976-90af-2b04acf1aba7', metadata={'source': 'mammals-pets-doc'}, page_content='Rabbits are pet and social animal that require large space to hop around'),\n",
       " Document(id='d6f7d8e3-765d-48a8-922a-1ff9a1abd687', metadata={'source': 'mammals-pets-doc'}, page_content='Parrots are intelligent bird cappable of mimicking human speech')]"
      ]
     },
     "execution_count": 26,
     "metadata": {},
     "output_type": "execute_result"
    }
   ],
   "execution_count": 26
  },
  {
   "metadata": {
    "ExecuteTime": {
     "end_time": "2025-07-30T12:04:03.022096Z",
     "start_time": "2025-07-30T12:04:02.985093Z"
    }
   },
   "cell_type": "code",
   "source": "Vector_store.similarity_search_with_score(\"Loyalty\")",
   "id": "33d5865690ea64d2",
   "outputs": [
    {
     "data": {
      "text/plain": [
       "[(Document(id='2ed6c736-1321-44b7-a9f3-7b5c530cc543', metadata={'source': 'mammals-pets-doc'}, page_content='Dogs are great human companions, Known for their loyalty and friendliness'),\n",
       "  1.1320605278015137),\n",
       " (Document(id='9fc147a1-b381-4e69-bfda-98a364b2731d', metadata={'source': 'mammals-pets-doc'}, page_content='Cats are independent pets that often enjoy their own space'),\n",
       "  1.7207907438278198),\n",
       " (Document(id='62bb0391-7af2-4976-90af-2b04acf1aba7', metadata={'source': 'mammals-pets-doc'}, page_content='Rabbits are pet and social animal that require large space to hop around'),\n",
       "  1.8800346851348877),\n",
       " (Document(id='d6f7d8e3-765d-48a8-922a-1ff9a1abd687', metadata={'source': 'mammals-pets-doc'}, page_content='Parrots are intelligent bird cappable of mimicking human speech'),\n",
       "  1.9740004539489746)]"
      ]
     },
     "execution_count": 27,
     "metadata": {},
     "output_type": "execute_result"
    }
   ],
   "execution_count": 27
  },
  {
   "metadata": {},
   "cell_type": "markdown",
   "source": "# RETRIEVERS",
   "id": "38028da1c24915f0"
  },
  {
   "metadata": {
    "ExecuteTime": {
     "end_time": "2025-07-30T12:09:14.537627Z",
     "start_time": "2025-07-30T12:09:14.530268Z"
    }
   },
   "cell_type": "code",
   "source": [
    "from typing import List\n",
    "from langchain_core.runnables import RunnableLambda"
   ],
   "id": "2ae07d147af3da66",
   "outputs": [],
   "execution_count": 31
  },
  {
   "metadata": {
    "ExecuteTime": {
     "end_time": "2025-07-30T12:21:29.463982Z",
     "start_time": "2025-07-30T12:21:29.439229Z"
    }
   },
   "cell_type": "code",
   "source": [
    "Retriever = RunnableLambda(Vector_store.similarity_search).bind(k=1)\n",
    "Retriever.invoke(\"Loyalty\")"
   ],
   "id": "6f11c6e0695ffdf1",
   "outputs": [
    {
     "data": {
      "text/plain": [
       "[Document(id='2ed6c736-1321-44b7-a9f3-7b5c530cc543', metadata={'source': 'mammals-pets-doc'}, page_content='Dogs are great human companions, Known for their loyalty and friendliness')]"
      ]
     },
     "execution_count": 34,
     "metadata": {},
     "output_type": "execute_result"
    }
   ],
   "execution_count": 34
  },
  {
   "metadata": {
    "ExecuteTime": {
     "end_time": "2025-07-30T12:21:55.529527Z",
     "start_time": "2025-07-30T12:21:55.487325Z"
    }
   },
   "cell_type": "code",
   "source": "Retriever.batch([\"Loyalty\", \"Friend\"])",
   "id": "1f8d3f8038aaa1f",
   "outputs": [
    {
     "data": {
      "text/plain": [
       "[[Document(id='2ed6c736-1321-44b7-a9f3-7b5c530cc543', metadata={'source': 'mammals-pets-doc'}, page_content='Dogs are great human companions, Known for their loyalty and friendliness')],\n",
       " [Document(id='2ed6c736-1321-44b7-a9f3-7b5c530cc543', metadata={'source': 'mammals-pets-doc'}, page_content='Dogs are great human companions, Known for their loyalty and friendliness')]]"
      ]
     },
     "execution_count": 35,
     "metadata": {},
     "output_type": "execute_result"
    }
   ],
   "execution_count": 35
  },
  {
   "metadata": {
    "ExecuteTime": {
     "end_time": "2025-07-30T12:36:01.066460Z",
     "start_time": "2025-07-30T12:36:01.056985Z"
    }
   },
   "cell_type": "code",
   "source": [
    "retriever = Vector_store.as_retriever(\n",
    "    search_type = \"similarity\",\n",
    "    search_kwargs = {\"k\":1}\n",
    ")"
   ],
   "id": "efcddf822fc421a8",
   "outputs": [],
   "execution_count": 37
  },
  {
   "metadata": {
    "ExecuteTime": {
     "end_time": "2025-07-30T12:36:10.553377Z",
     "start_time": "2025-07-30T12:36:10.465576Z"
    }
   },
   "cell_type": "code",
   "source": "retriever.batch([\"Loyalty\", \"Friend\"])",
   "id": "261a6f8d9fcea6e3",
   "outputs": [
    {
     "data": {
      "text/plain": [
       "[[Document(id='2ed6c736-1321-44b7-a9f3-7b5c530cc543', metadata={'source': 'mammals-pets-doc'}, page_content='Dogs are great human companions, Known for their loyalty and friendliness')],\n",
       " [Document(id='2ed6c736-1321-44b7-a9f3-7b5c530cc543', metadata={'source': 'mammals-pets-doc'}, page_content='Dogs are great human companions, Known for their loyalty and friendliness')]]"
      ]
     },
     "execution_count": 38,
     "metadata": {},
     "output_type": "execute_result"
    }
   ],
   "execution_count": 38
  },
  {
   "metadata": {},
   "cell_type": "code",
   "outputs": [],
   "execution_count": null,
   "source": "",
   "id": "157c839bf81bc68e"
  }
 ],
 "metadata": {
  "kernelspec": {
   "display_name": "Python 3",
   "language": "python",
   "name": "python3"
  },
  "language_info": {
   "codemirror_mode": {
    "name": "ipython",
    "version": 2
   },
   "file_extension": ".py",
   "mimetype": "text/x-python",
   "name": "python",
   "nbconvert_exporter": "python",
   "pygments_lexer": "ipython2",
   "version": "2.7.6"
  }
 },
 "nbformat": 4,
 "nbformat_minor": 5
}
