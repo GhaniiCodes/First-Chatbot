{
 "cells": [
  {
   "cell_type": "code",
   "execution_count": 1,
   "id": "d66c699d",
   "metadata": {},
   "outputs": [],
   "source": [
    "import os\n",
    "from dotenv import load_dotenv\n",
    "from langchain_core.messages import HumanMessage, AIMessage\n",
    "from langchain_groq import ChatGroq\n",
    "from langchain_community.chat_message_histories import ChatMessageHistory\n",
    "from langchain_core.runnables import RunnableWithMessageHistory\n",
    "from langchain_core.chat_history import BaseChatMessageHistory"
   ]
  },
  {
   "cell_type": "code",
   "execution_count": 2,
   "metadata": {},
   "outputs": [
    {
     "data": {
      "text/plain": [
       "True"
      ]
     },
     "execution_count": 2,
     "metadata": {},
     "output_type": "execute_result"
    }
   ],
   "source": [
    "load_dotenv(dotenv_path=\"D:\\PYTHON\\GENERATIVE AI\\.ENV FILES\\Simple ChatBot\\.env\")"
   ]
  },
  {
   "cell_type": "code",
   "execution_count": 3,
   "id": "4c81bee2",
   "metadata": {},
   "outputs": [],
   "source": [
    "GROQ_key = os.getenv(\"GROQ_API_KEY\")"
   ]
  },
  {
   "cell_type": "code",
   "execution_count": 4,
   "id": "f50ccc22",
   "metadata": {},
   "outputs": [],
   "source": [
    "Model = ChatGroq(model=\"gemma2-9b-it\", groq_api_key= GROQ_key)"
   ]
  },
  {
   "cell_type": "code",
   "execution_count": 5,
   "id": "45083160",
   "metadata": {},
   "outputs": [],
   "source": [
    "Session_IDs = {}"
   ]
  },
  {
   "cell_type": "code",
   "execution_count": 6,
   "id": "86c6affa",
   "metadata": {},
   "outputs": [],
   "source": [
    "def Get_Session_ID(Session_ID: str) -> BaseChatMessageHistory:\n",
    "    if Session_ID not in Session_IDs:\n",
    "        Session_IDs[Session_ID] = ChatMessageHistory()\n",
    "        \n",
    "    return Session_IDs[Session_ID]  # Return the ChatMessageHistory object\n",
    "\n",
    "With_Chat_History = RunnableWithMessageHistory(Model, Get_Session_ID)"
   ]
  },
  {
   "cell_type": "code",
   "execution_count": 15,
   "id": "a5747936",
   "metadata": {},
   "outputs": [],
   "source": [
    "config_01 = {\"configurable\": {\"session_id\":\"Chat_01\"}}\n",
    "config_02 = {\"configurable\": {\"session_id\":\"Chat_02\"}}"
   ]
  },
  {
   "cell_type": "code",
   "execution_count": 11,
   "id": "2eb986c8",
   "metadata": {},
   "outputs": [],
   "source": [
    "Response = With_Chat_History.invoke([\n",
    "    HumanMessage(content=\"Hello, My name is Muhammad Usman Ghani And I am AI Developer\")],\n",
    "                config= config_01\n",
    "                        )"
   ]
  },
  {
   "cell_type": "code",
   "execution_count": 12,
   "id": "d713e644",
   "metadata": {},
   "outputs": [
    {
     "data": {
      "text/plain": [
       "\"Hello Muhammad Usman Ghani! \\n\\nIt's nice to meet you. That's great! Being an AI Developer is a really exciting field. \\n\\nWhat kind of AI projects are you working on? I'm always eager to hear about what people are creating. 😊  \\n\""
      ]
     },
     "execution_count": 12,
     "metadata": {},
     "output_type": "execute_result"
    }
   ],
   "source": [
    "Response.content"
   ]
  },
  {
   "cell_type": "code",
   "execution_count": 13,
   "id": "0f23a90b",
   "metadata": {},
   "outputs": [],
   "source": [
    "Response = With_Chat_History.invoke([\n",
    "    HumanMessage(content=\"What is My name and what do I do\")],\n",
    "                config= config_01\n",
    "                        )"
   ]
  },
  {
   "cell_type": "code",
   "execution_count": 14,
   "id": "7c7419e6",
   "metadata": {},
   "outputs": [
    {
     "data": {
      "text/plain": [
       "\"You are Muhammad Usman Ghani, and you are an AI Developer. \\n\\nIs there anything else you'd like to tell me about yourself or your work?  I'm always happy to learn more! 😊  \\n\""
      ]
     },
     "execution_count": 14,
     "metadata": {},
     "output_type": "execute_result"
    }
   ],
   "source": [
    "Response.content"
   ]
  },
  {
   "cell_type": "code",
   "execution_count": 16,
   "id": "8bd455ec",
   "metadata": {},
   "outputs": [],
   "source": [
    "Response = With_Chat_History.invoke([\n",
    "    HumanMessage(content=\"What is My name and what do I do\")],\n",
    "                config= config_02\n",
    "                        )"
   ]
  },
  {
   "cell_type": "code",
   "execution_count": 17,
   "id": "a3b686d6",
   "metadata": {},
   "outputs": [
    {
     "data": {
      "text/plain": [
       "\"As an AI, I don't have a name or personal experiences like humans do. I am a large language model here to assist you with various tasks, such as:\\n\\n* **Generating text:** I can write stories, poems, articles, and more.\\n* **Answering questions:** I can provide information on a wide range of topics.\\n* **Summarizing text:** I can condense large amounts of text into shorter summaries.\\n* **Translating languages:** I can translate text between different languages.\\n* **And much more!**\\n\\nWhat can I do for you today?\\n\""
      ]
     },
     "execution_count": 17,
     "metadata": {},
     "output_type": "execute_result"
    }
   ],
   "source": [
    "Response.content"
   ]
  },
  {
   "cell_type": "code",
   "execution_count": null,
   "id": "9d8dd2d1",
   "metadata": {},
   "outputs": [],
   "source": []
  }
 ],
 "metadata": {
  "kernelspec": {
   "display_name": "GENAI",
   "language": "python",
   "name": "python3"
  },
  "language_info": {
   "codemirror_mode": {
    "name": "ipython",
    "version": 3
   },
   "file_extension": ".py",
   "mimetype": "text/x-python",
   "name": "python",
   "nbconvert_exporter": "python",
   "pygments_lexer": "ipython3",
   "version": "3.11.3"
  }
 },
 "nbformat": 4,
 "nbformat_minor": 5
}
