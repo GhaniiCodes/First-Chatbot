{
 "cells": [
  {
   "cell_type": "code",
   "id": "d66c699d",
   "metadata": {
    "ExecuteTime": {
     "end_time": "2025-07-27T09:57:47.927704Z",
     "start_time": "2025-07-27T09:57:47.921070Z"
    }
   },
   "source": [
    "import os\n",
    "from dotenv import load_dotenv\n",
    "from langchain_core.messages import HumanMessage, AIMessage, trim_messages\n",
    "from langchain_groq import ChatGroq\n",
    "from langchain_community.chat_message_histories import ChatMessageHistory\n",
    "from langchain_core.runnables import RunnableWithMessageHistory\n",
    "from langchain_core.chat_history import BaseChatMessageHistory\n",
    "from langchain_core.prompts import ChatPromptTemplate, MessagesPlaceholder\n",
    "from langchain_core.runnables import RunnablePassthrough\n",
    "from operator import itemgetter"
   ],
   "outputs": [],
   "execution_count": 57
  },
  {
   "cell_type": "code",
   "metadata": {
    "ExecuteTime": {
     "end_time": "2025-07-27T09:18:11.621701Z",
     "start_time": "2025-07-27T09:18:11.591052Z"
    }
   },
   "source": [
    "load_dotenv(dotenv_path=\"D:\\PYTHON\\GENERATIVE AI\\.ENV FILES\\Simple ChatBot\\.env\")"
   ],
   "id": "26c84f1b1f42100a",
   "outputs": [
    {
     "data": {
      "text/plain": [
       "True"
      ]
     },
     "execution_count": 2,
     "metadata": {},
     "output_type": "execute_result"
    }
   ],
   "execution_count": 2
  },
  {
   "cell_type": "code",
   "id": "4c81bee2",
   "metadata": {
    "ExecuteTime": {
     "end_time": "2025-07-27T09:18:12.431046Z",
     "start_time": "2025-07-27T09:18:12.421898Z"
    }
   },
   "source": [
    "GROQ_key = os.getenv(\"GROQ_API_KEY\")"
   ],
   "outputs": [],
   "execution_count": 3
  },
  {
   "cell_type": "code",
   "id": "f50ccc22",
   "metadata": {
    "ExecuteTime": {
     "end_time": "2025-07-27T09:19:01.082216Z",
     "start_time": "2025-07-27T09:19:01.037680Z"
    }
   },
   "source": "Model = ChatGroq(model=\"gemma2-9b-it\", api_key=GROQ_key)",
   "outputs": [],
   "execution_count": 14
  },
  {
   "cell_type": "code",
   "id": "45083160",
   "metadata": {
    "ExecuteTime": {
     "end_time": "2025-07-27T09:19:02.114009Z",
     "start_time": "2025-07-27T09:19:02.107523Z"
    }
   },
   "source": [
    "Session_IDs = {}"
   ],
   "outputs": [],
   "execution_count": 15
  },
  {
   "cell_type": "code",
   "id": "86c6affa",
   "metadata": {
    "ExecuteTime": {
     "end_time": "2025-07-27T09:19:02.699849Z",
     "start_time": "2025-07-27T09:19:02.691490Z"
    }
   },
   "source": [
    "def Get_Session_ID(Session_ID: str) -> BaseChatMessageHistory:\n",
    "    if Session_ID not in Session_IDs:\n",
    "        Session_IDs[Session_ID] = ChatMessageHistory()\n",
    "        \n",
    "    return Session_IDs[Session_ID]  # Return the ChatMessageHistory object\n",
    "\n",
    "With_Chat_History = RunnableWithMessageHistory(Model, Get_Session_ID)"
   ],
   "outputs": [],
   "execution_count": 16
  },
  {
   "cell_type": "code",
   "id": "a5747936",
   "metadata": {
    "ExecuteTime": {
     "end_time": "2025-07-27T09:19:03.155398Z",
     "start_time": "2025-07-27T09:19:03.144345Z"
    }
   },
   "source": [
    "config_01 = {\"configurable\": {\"session_id\":\"Chat_01\"}}\n",
    "config_02 = {\"configurable\": {\"session_id\":\"Chat_02\"}}"
   ],
   "outputs": [],
   "execution_count": 17
  },
  {
   "cell_type": "code",
   "id": "2eb986c8",
   "metadata": {
    "ExecuteTime": {
     "end_time": "2025-07-27T09:19:04.745573Z",
     "start_time": "2025-07-27T09:19:03.634977Z"
    }
   },
   "source": [
    "Response = With_Chat_History.invoke([\n",
    "    HumanMessage(content=\"Hello, My name is Muhammad Usman Ghani And I am AI Developer\")],\n",
    "                config= config_01\n",
    "                        )"
   ],
   "outputs": [],
   "execution_count": 18
  },
  {
   "cell_type": "code",
   "id": "d713e644",
   "metadata": {
    "ExecuteTime": {
     "end_time": "2025-07-27T09:19:04.790506Z",
     "start_time": "2025-07-27T09:19:04.778437Z"
    }
   },
   "source": [
    "Response.content"
   ],
   "outputs": [
    {
     "data": {
      "text/plain": [
       "\"Hello Muhammad Usman Ghani! It's nice to meet you. \\n\\nBeing an AI developer is an exciting field. What kind of AI projects are you working on? \\n\\nDo you have any particular areas of interest within AI development, like natural language processing, computer vision, or machine learning?  \\n\\nI'm always eager to learn more about what people are doing in the world of AI.\\n\""
      ]
     },
     "execution_count": 19,
     "metadata": {},
     "output_type": "execute_result"
    }
   ],
   "execution_count": 19
  },
  {
   "cell_type": "code",
   "id": "0f23a90b",
   "metadata": {
    "ExecuteTime": {
     "end_time": "2025-07-27T09:19:07.312743Z",
     "start_time": "2025-07-27T09:19:04.901805Z"
    }
   },
   "source": [
    "Response = With_Chat_History.invoke([\n",
    "    HumanMessage(content=\"What is My name and what do I do\")],\n",
    "                config= config_01\n",
    "                        )"
   ],
   "outputs": [],
   "execution_count": 20
  },
  {
   "cell_type": "code",
   "id": "7c7419e6",
   "metadata": {
    "ExecuteTime": {
     "end_time": "2025-07-27T09:19:07.371088Z",
     "start_time": "2025-07-27T09:19:07.356364Z"
    }
   },
   "source": [
    "Response.content"
   ],
   "outputs": [
    {
     "data": {
      "text/plain": [
       "\"My name is Gemma, and I'm an AI assistant. I help people by answering questions, generating text, translating languages, and more.  \\n\\nYou said your name is Muhammad Usman Ghani and that you are an AI Developer.  \\n\\nIs there anything else you'd like to tell me about yourself or your work?\\n\""
      ]
     },
     "execution_count": 21,
     "metadata": {},
     "output_type": "execute_result"
    }
   ],
   "execution_count": 21
  },
  {
   "cell_type": "code",
   "id": "8bd455ec",
   "metadata": {
    "ExecuteTime": {
     "end_time": "2025-07-27T09:19:08.179255Z",
     "start_time": "2025-07-27T09:19:07.408296Z"
    }
   },
   "source": [
    "Response = With_Chat_History.invoke([\n",
    "    HumanMessage(content=\"What is My name and what do I do\")],\n",
    "                config= config_02\n",
    "                        )"
   ],
   "outputs": [],
   "execution_count": 22
  },
  {
   "cell_type": "code",
   "id": "a3b686d6",
   "metadata": {
    "ExecuteTime": {
     "end_time": "2025-07-27T09:19:08.226829Z",
     "start_time": "2025-07-27T09:19:08.215789Z"
    }
   },
   "source": [
    "Response.content"
   ],
   "outputs": [
    {
     "data": {
      "text/plain": [
       "\"As an AI, I don't have a name or personal experiences like humans do. I'm here to assist you with various tasks, such as:\\n\\n* **Generating creative content:** I can write stories, poems, articles, and more.\\n* **Answering questions:** I can provide information on a wide range of topics.\\n* **Summarizing text:** I can condense large amounts of text into shorter summaries.\\n* **Translating languages:** I can translate text between multiple languages.\\n* **And much more!**\\n\\nIs there anything specific I can help you with today?\\n\""
      ]
     },
     "execution_count": 23,
     "metadata": {},
     "output_type": "execute_result"
    }
   ],
   "execution_count": 23
  },
  {
   "metadata": {},
   "cell_type": "markdown",
   "source": "Now Using prompt Template",
   "id": "856f9e22baf91162"
  },
  {
   "cell_type": "code",
   "id": "9d8dd2d1",
   "metadata": {
    "ExecuteTime": {
     "end_time": "2025-07-27T09:25:36.289411Z",
     "start_time": "2025-07-27T09:25:36.280016Z"
    }
   },
   "source": [
    "Prompt = ChatPromptTemplate.from_messages([\n",
    "    (\"system\", \"You are a helpful assistant, Gave response to every question to every question asked in detail and In a way that everyone can understand\",),\n",
    "    MessagesPlaceholder(variable_name=\"messages\")\n",
    "])"
   ],
   "outputs": [],
   "execution_count": 28
  },
  {
   "metadata": {
    "ExecuteTime": {
     "end_time": "2025-07-27T09:26:04.602548Z",
     "start_time": "2025-07-27T09:26:04.596800Z"
    }
   },
   "cell_type": "code",
   "source": "Chain = Prompt | Model",
   "id": "2f5554476502e366",
   "outputs": [],
   "execution_count": 29
  },
  {
   "metadata": {
    "ExecuteTime": {
     "end_time": "2025-07-27T09:29:00.635125Z",
     "start_time": "2025-07-27T09:28:58.894562Z"
    }
   },
   "cell_type": "code",
   "source": [
    "Response = Chain.invoke({\"messages\": [HumanMessage(content=\"Asslamwalaikum, My name is Muhammad Usman Ghani\")]})\n",
    "\n",
    "Response.content"
   ],
   "id": "6e890c1edbdcff71",
   "outputs": [
    {
     "data": {
      "text/plain": [
       "\"Wa alaikum assalam Muhammad Usman Ghani!  \\n\\nIt's nice to meet you. I'm happy to be your helpful assistant. \\n\\nAsk me anything you'd like – I'll do my best to answer in a clear and detailed way that everyone can understand. \\n\\nWhat can I help you with today? 😊 \\n\\n\""
      ]
     },
     "execution_count": 32,
     "metadata": {},
     "output_type": "execute_result"
    }
   ],
   "execution_count": 32
  },
  {
   "metadata": {
    "ExecuteTime": {
     "end_time": "2025-07-27T09:31:39.411432Z",
     "start_time": "2025-07-27T09:31:39.403171Z"
    }
   },
   "cell_type": "code",
   "source": [
    "Prompt = ChatPromptTemplate.from_messages([\n",
    "    (\"system\", \"You are a helpful assistant, Gave response to every question to every question asked in detail and In a way that everyone can understand in {language}\",),\n",
    "    MessagesPlaceholder(variable_name=\"messages\")\n",
    "])"
   ],
   "id": "29652809d4a96d5f",
   "outputs": [],
   "execution_count": 36
  },
  {
   "metadata": {
    "ExecuteTime": {
     "end_time": "2025-07-27T09:32:58.192742Z",
     "start_time": "2025-07-27T09:32:58.187025Z"
    }
   },
   "cell_type": "code",
   "source": "Chain = Prompt | Model",
   "id": "b811c27c4837f7b3",
   "outputs": [],
   "execution_count": 38
  },
  {
   "metadata": {
    "ExecuteTime": {
     "end_time": "2025-07-27T09:33:02.139201Z",
     "start_time": "2025-07-27T09:33:00.692470Z"
    }
   },
   "cell_type": "code",
   "source": [
    "Response = Chain.invoke({\"messages\": [HumanMessage(content=\"Asslamwalaikum, My name is Muhammad Usman Ghani\")], \"language\": \"Pashto\"})\n",
    "\n",
    "Response.content"
   ],
   "id": "8b3fefef21eabfa3",
   "outputs": [
    {
     "data": {
      "text/plain": [
       "\"سلام عليكم، محمد عثمان غاني!  😊  \\n\\n خوش آمدید! \\n\\nمی\\u200cتونم به سوالات شما به زبان پښتو پاسخ دهم. هر سؤالی که داری، بدون هیچ مشکلی به تو جواب میدهم. فقط بگو! \\n\\n(Hello Muhammad Usman Ghani! 😊  Welcome!\\n\\nI can answer your questions in Pashto. Ask me anything, I'll be happy to help!) \\n\\n\""
      ]
     },
     "execution_count": 39,
     "metadata": {},
     "output_type": "execute_result"
    }
   ],
   "execution_count": 39
  },
  {
   "metadata": {},
   "cell_type": "markdown",
   "source": "# managing the ChatHistory",
   "id": "d6bf8fcb2b2fb707"
  },
  {
   "metadata": {
    "ExecuteTime": {
     "end_time": "2025-07-27T09:55:39.345970Z",
     "start_time": "2025-07-27T09:55:39.335934Z"
    }
   },
   "cell_type": "code",
   "source": [
    "Trimmer = trim_messages(\n",
    "    max_tokens = 50,\n",
    "    strategy = \"last\",\n",
    "    token_counter = Model,\n",
    "    include_system = True,\n",
    "    allow_partial = False,\n",
    "    start_on = \"human\"\n",
    ")"
   ],
   "id": "a1d3719eb8065fe1",
   "outputs": [],
   "execution_count": 54
  },
  {
   "metadata": {
    "ExecuteTime": {
     "end_time": "2025-07-27T09:55:39.509831Z",
     "start_time": "2025-07-27T09:55:39.498223Z"
    }
   },
   "cell_type": "code",
   "source": [
    "messages = [\n",
    "    HumanMessage(content=\"Hello, how are you?\"),\n",
    "    AIMessage(content=\"I'm doing great, thanks!\"),\n",
    "    HumanMessage(content=\"What's the weather like today?\"),\n",
    "    AIMessage(content=\"It's sunny and warm!\"),\n",
    "    HumanMessage(content=\"Can you help me with coding?\"),\n",
    "    AIMessage(content=\"Sure, what's the coding problem?\"),\n",
    "]"
   ],
   "id": "f841628467e2ac4a",
   "outputs": [],
   "execution_count": 55
  },
  {
   "metadata": {
    "ExecuteTime": {
     "end_time": "2025-07-27T09:55:40.390212Z",
     "start_time": "2025-07-27T09:55:40.372391Z"
    }
   },
   "cell_type": "code",
   "source": "Trimmer.invoke(messages)",
   "id": "87dc26841d341d5b",
   "outputs": [
    {
     "data": {
      "text/plain": [
       "[HumanMessage(content=\"What's the weather like today?\", additional_kwargs={}, response_metadata={}),\n",
       " AIMessage(content=\"It's sunny and warm!\", additional_kwargs={}, response_metadata={}),\n",
       " HumanMessage(content='Can you help me with coding?', additional_kwargs={}, response_metadata={}),\n",
       " AIMessage(content=\"Sure, what's the coding problem?\", additional_kwargs={}, response_metadata={})]"
      ]
     },
     "execution_count": 56,
     "metadata": {},
     "output_type": "execute_result"
    }
   ],
   "execution_count": 56
  },
  {
   "metadata": {},
   "cell_type": "code",
   "outputs": [],
   "execution_count": null,
   "source": "",
   "id": "fbd58c8d6829617a"
  }
 ],
 "metadata": {
  "kernelspec": {
   "display_name": "GENAI",
   "language": "python",
   "name": "python3"
  },
  "language_info": {
   "codemirror_mode": {
    "name": "ipython",
    "version": 3
   },
   "file_extension": ".py",
   "mimetype": "text/x-python",
   "name": "python",
   "nbconvert_exporter": "python",
   "pygments_lexer": "ipython3",
   "version": "3.11.3"
  }
 },
 "nbformat": 4,
 "nbformat_minor": 5
}
